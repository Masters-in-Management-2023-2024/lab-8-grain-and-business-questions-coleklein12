{
  "cells": [
    {
      "cell_type": "markdown",
      "metadata": {
        "id": "Q0uurIRcmrGI"
      },
      "source": [
        "# Diamond Company Analytics Challenge\n",
        "\n",
        "**Time:** 35 minutes\n",
        "\n",
        "**Scenario:** You are the new data analyst at a prestigious diamond company. The CEO has called an urgent meeting and needs answers to critical business questions about the inventory.\n",
        "\n",
        "**Your Mission:** Analyze the diamond inventory data and provide insights to guide strategic decisions."
      ]
    },
    {
      "cell_type": "code",
      "execution_count": null,
      "metadata": {
        "id": "GoA4Qw6hmrGK"
      },
      "outputs": [],
      "source": [
        "import polars as pl\n",
        "\n",
        "# Load the diamonds dataset\n",
        "print(\"Loading diamonds dataset...\")\n",
        "df = pl.read_csv('https://raw.githubusercontent.com/pycaret/pycaret/master/datasets/diamond.csv')\n",
        "print(\"Dataset loaded successfully!\")"
      ]
    },
    {
      "cell_type": "markdown",
      "metadata": {
        "id": "mGoVQHc4mrGM"
      },
      "source": [
        "## Section 1: Initial Inventory Assessment (5 minutes)\n",
        "\n",
        "The CEO walks in: \"Before we dive into specifics, I need to understand what we're working with. Give me the basics about our inventory database.\""
      ]
    },
    {
      "cell_type": "markdown",
      "metadata": {
        "id": "57zPG2IUmrGM"
      },
      "source": [
        "### Question 1: \"How extensive is our inventory database?\"\n",
        "\n",
        "The CEO needs to know the scale of data you're analyzing."
      ]
    },
    {
      "cell_type": "code",
      "source": [
        "# Question 1: \"How extensive is our inventory database?\"\n",
        "# Keywords: \"How extensive\" -> shape of the DataFrame\n",
        "\n",
        "print(f\"The inventory database has {df.shape[0]} rows and {df.shape[1]} columns.\")"
      ],
      "metadata": {
        "colab": {
          "base_uri": "https://localhost:8080/"
        },
        "id": "woiTY3gNy9Oz",
        "outputId": "0b1e521c-750b-47d9-d25c-c894a0739e4e"
      },
      "execution_count": 24,
      "outputs": [
        {
          "output_type": "stream",
          "name": "stdout",
          "text": [
            "The inventory database has 6000 rows and 8 columns.\n"
          ]
        }
      ]
    },
    {
      "cell_type": "markdown",
      "metadata": {
        "id": "g1UAtJY_mrGN"
      },
      "source": [
        "### Question 2: \"What information do we track about each diamond?\"\n",
        "\n",
        "List all the characteristics we record."
      ]
    },
    {
      "cell_type": "code",
      "execution_count": 16,
      "metadata": {
        "colab": {
          "base_uri": "https://localhost:8080/"
        },
        "id": "rwkkS0JlmrGO",
        "outputId": "74abbba8-dfad-4239-ac4d-94cb8308642a"
      },
      "outputs": [
        {
          "output_type": "stream",
          "name": "stdout",
          "text": [
            "We track the following information about each diamond:\n",
            "['Carat Weight', 'Cut', 'Color', 'Clarity', 'Polish', 'Symmetry', 'Report', 'Price']\n"
          ]
        }
      ],
      "source": [
        "# Question 2: \"What information do we track about each diamond?\"\n",
        "# Keywords: \"What information\", \"characteristics\" -> columns of the DataFrame\n",
        "\n",
        "print(\"We track the following information about each diamond:\")\n",
        "print(df.columns)"
      ]
    },
    {
      "cell_type": "markdown",
      "metadata": {
        "id": "06lCMBRMmrGP"
      },
      "source": [
        "## Section 2: Strategic Business Questions (20 minutes)\n",
        "\n",
        "The CEO continues: \"Now let's get to the important questions. Our board meeting is tomorrow and I need concrete numbers.\""
      ]
    },
    {
      "cell_type": "markdown",
      "metadata": {
        "id": "i73qiEnkmrGO"
      },
      "source": [
        "### Question 3: \"When I look at one line in this database, what am I looking at?\"\n",
        "\n",
        "Explain in business terms:"
      ]
    },
    {
      "cell_type": "markdown",
      "metadata": {
        "id": "wM2xo7TvmrGP"
      },
      "source": [
        "### Question 4: \"We're considering expanding our storage facilities. How many total carats do we have in inventory? I need to know if our vaults can handle the weight.\"\n",
        "\n",
        "Think about what measurement would help answer this."
      ]
    },
    {
      "cell_type": "code",
      "execution_count": 17,
      "metadata": {
        "colab": {
          "base_uri": "https://localhost:8080/"
        },
        "id": "dQr4xOWAmrGP",
        "outputId": "36892275-0d80-458e-afa1-3f78439ea1b0"
      },
      "outputs": [
        {
          "output_type": "stream",
          "name": "stdout",
          "text": [
            "Total carats in inventory: 8007.12 carats\n"
          ]
        }
      ],
      "source": [
        "# Your code here:\n",
        "# Question 4: \"How many total carats do we have in inventory?\"\n",
        "# Keywords: \"total carats\" -> sum of 'Carat Weight'\n",
        "\n",
        "total_carats = df.select(pl.col(\"Carat Weight\").sum()).item()\n",
        "\n",
        "print(f\"Total carats in inventory: {total_carats:.2f} carats\")"
      ]
    },
    {
      "cell_type": "markdown",
      "metadata": {
        "id": "XJp-FufimrGQ"
      },
      "source": [
        "### Question 5: \"Our new marketing campaign claims we have 'the widest variety of cuts in the industry.' Can you verify this?\"\n",
        "\n",
        "The CEO wants to know about variety, not quantity."
      ]
    },
    {
      "cell_type": "code",
      "execution_count": 18,
      "metadata": {
        "colab": {
          "base_uri": "https://localhost:8080/"
        },
        "id": "M_8k1TegmrGQ",
        "outputId": "29097872-8deb-48a2-f099-94599a3983fc"
      },
      "outputs": [
        {
          "output_type": "stream",
          "name": "stdout",
          "text": [
            "Number of unique cut types in inventory: 5\n",
            "The unique cut types are: ['Fair', 'Ideal', 'Good', 'Very Good', 'Signature-Ideal']\n"
          ]
        }
      ],
      "source": [
        "# Your code here:\n",
        "# Question 5: \"Our new marketing campaign claims we have 'the widest variety of cuts in the industry.' Can you verify this?\"\n",
        "# Keywords: \"widest variety\" -> unique values in 'Cut'\n",
        "\n",
        "unique_cuts = df.select(pl.col(\"Cut\").unique()).to_series().to_list()\n",
        "num_unique_cuts = len(unique_cuts)\n",
        "\n",
        "print(f\"Number of unique cut types in inventory: {num_unique_cuts}\")\n",
        "print(f\"The unique cut types are: {unique_cuts}\")"
      ]
    },
    {
      "cell_type": "markdown",
      "metadata": {
        "id": "qYmtuVo_mrGQ"
      },
      "source": [
        "### Question 6: \"I'm meeting with our insurance company. They need to know our price exposure - what's our most and least valuable diamond?\""
      ]
    },
    {
      "cell_type": "code",
      "execution_count": 19,
      "metadata": {
        "colab": {
          "base_uri": "https://localhost:8080/"
        },
        "id": "aW-c-rbemrGQ",
        "outputId": "441f8e22-2b69-477d-d1ab-5df0c53963a1"
      },
      "outputs": [
        {
          "output_type": "stream",
          "name": "stdout",
          "text": [
            "Most valuable diamond (highest price): $101,561.00\n",
            "Least valuable diamond (lowest price): $2,184.00\n"
          ]
        }
      ],
      "source": [
        "# Your code here:\n",
        "# Question 6: \"I'm meeting with our insurance company. They need to know our price exposure - what's our most and least valuable diamond?\"\n",
        "# Keywords: \"most and least valuable\" -> max and min of 'Price'\n",
        "\n",
        "max_price = df.select(pl.col(\"Price\").max()).item()\n",
        "min_price = df.select(pl.col(\"Price\").min()).item()\n",
        "\n",
        "print(f\"Most valuable diamond (highest price): ${max_price:,.2f}\")\n",
        "print(f\"Least valuable diamond (lowest price): ${min_price:,.2f}\")"
      ]
    },
    {
      "cell_type": "markdown",
      "metadata": {
        "id": "0OSlYOOgmrGQ"
      },
      "source": [
        "### Question 7: \"Which color grades should we focus on in our premium line? I need typical prices across our color spectrum.\"\n",
        "\n",
        "The CEO wants to understand pricing patterns."
      ]
    },
    {
      "cell_type": "code",
      "execution_count": 20,
      "metadata": {
        "colab": {
          "base_uri": "https://localhost:8080/",
          "height": 304
        },
        "id": "Maov9g-ymrGR",
        "outputId": "4655dbbd-ba1b-4b85-f01e-d49b589913cd"
      },
      "outputs": [
        {
          "output_type": "stream",
          "name": "stdout",
          "text": [
            "Typical prices across color grades (from highest to lowest average price):\n"
          ]
        },
        {
          "output_type": "execute_result",
          "data": {
            "text/plain": [
              "shape: (6, 2)\n",
              "┌───────┬───────────────┐\n",
              "│ Color ┆ average_price │\n",
              "│ ---   ┆ ---           │\n",
              "│ str   ┆ f64           │\n",
              "╞═══════╪═══════════════╡\n",
              "│ D     ┆ 15255.783661  │\n",
              "│ F     ┆ 12712.241856  │\n",
              "│ G     ┆ 12520.050633  │\n",
              "│ E     ┆ 11539.190231  │\n",
              "│ H     ┆ 10487.347544  │\n",
              "│ I     ┆ 8989.636364   │\n",
              "└───────┴───────────────┘"
            ],
            "text/html": [
              "<div><style>\n",
              ".dataframe > thead > tr,\n",
              ".dataframe > tbody > tr {\n",
              "  text-align: right;\n",
              "  white-space: pre-wrap;\n",
              "}\n",
              "</style>\n",
              "<small>shape: (6, 2)</small><table border=\"1\" class=\"dataframe\"><thead><tr><th>Color</th><th>average_price</th></tr><tr><td>str</td><td>f64</td></tr></thead><tbody><tr><td>&quot;D&quot;</td><td>15255.783661</td></tr><tr><td>&quot;F&quot;</td><td>12712.241856</td></tr><tr><td>&quot;G&quot;</td><td>12520.050633</td></tr><tr><td>&quot;E&quot;</td><td>11539.190231</td></tr><tr><td>&quot;H&quot;</td><td>10487.347544</td></tr><tr><td>&quot;I&quot;</td><td>8989.636364</td></tr></tbody></table></div>"
            ]
          },
          "metadata": {},
          "execution_count": 20
        }
      ],
      "source": [
        "# Your code here:\n",
        "# Question 7: \"Which color grades should we focus on in our premium line? I need typical prices across our color spectrum.\"\n",
        "# Keywords: \"typical prices\", \"across our color spectrum\" -> group by 'Color' and calculate mean 'Price'\n",
        "\n",
        "color_prices = df.group_by(\"Color\").agg(\n",
        "    pl.col(\"Price\").mean().alias(\"average_price\")\n",
        ").sort(\"average_price\", descending=True)\n",
        "\n",
        "print(\"Typical prices across color grades (from highest to lowest average price):\")\n",
        "color_prices"
      ]
    },
    {
      "cell_type": "markdown",
      "metadata": {
        "id": "7M6b76NjmrGR"
      },
      "source": [
        "**Reflection:** After analyzing by color, how has your view of the data changed? What does each row in your result represent now?"
      ]
    },
    {
      "cell_type": "markdown",
      "metadata": {
        "id": "xe08dPNemrGR"
      },
      "source": [
        "**Your answer:** New grain ="
      ]
    },
    {
      "cell_type": "markdown",
      "metadata": {
        "id": "Pn8-yJ1ymrGR"
      },
      "source": [
        "## Section 3: Advanced Strategic Analysis (10 minutes)\n",
        "\n",
        "The CEO leans forward: \"These next questions will shape our strategy for next year.\""
      ]
    },
    {
      "cell_type": "markdown",
      "metadata": {
        "id": "GR51m5zOmrGR"
      },
      "source": [
        "### Question 8: \"We're thinking of specializing in certain clarity grades. For our investor deck, I need a complete breakdown showing: how many diamonds we have in each clarity grade, their typical price, and the total carats we're holding for each grade.\""
      ]
    },
    {
      "cell_type": "code",
      "execution_count": 21,
      "metadata": {
        "colab": {
          "base_uri": "https://localhost:8080/",
          "height": 335
        },
        "id": "M49AgVgjmrGR",
        "outputId": "ac64c2e1-edb9-4aac-fa43-e19185f582d3"
      },
      "outputs": [
        {
          "output_type": "stream",
          "name": "stdout",
          "text": [
            "Clarity Grade Breakdown:\n"
          ]
        },
        {
          "output_type": "execute_result",
          "data": {
            "text/plain": [
              "shape: (7, 4)\n",
              "┌─────────┬────────────────────┬───────────────┬──────────────┐\n",
              "│ Clarity ┆ number_of_diamonds ┆ typical_price ┆ total_carats │\n",
              "│ ---     ┆ ---                ┆ ---           ┆ ---          │\n",
              "│ str     ┆ u32                ┆ f64           ┆ f64          │\n",
              "╞═════════╪════════════════════╪═══════════════╪══════════════╡\n",
              "│ FL      ┆ 4                  ┆ 63776.0       ┆ 7.87         │\n",
              "│ IF      ┆ 219                ┆ 22105.844749  ┆ 316.0        │\n",
              "│ SI1     ┆ 2059               ┆ 8018.864012   ┆ 2563.69      │\n",
              "│ VS1     ┆ 1192               ┆ 13694.113255  ┆ 1682.74      │\n",
              "│ VS2     ┆ 1575               ┆ 11809.053333  ┆ 2170.81      │\n",
              "│ VVS1    ┆ 285                ┆ 16845.680702  ┆ 389.43       │\n",
              "│ VVS2    ┆ 666                ┆ 14142.177177  ┆ 876.58       │\n",
              "└─────────┴────────────────────┴───────────────┴──────────────┘"
            ],
            "text/html": [
              "<div><style>\n",
              ".dataframe > thead > tr,\n",
              ".dataframe > tbody > tr {\n",
              "  text-align: right;\n",
              "  white-space: pre-wrap;\n",
              "}\n",
              "</style>\n",
              "<small>shape: (7, 4)</small><table border=\"1\" class=\"dataframe\"><thead><tr><th>Clarity</th><th>number_of_diamonds</th><th>typical_price</th><th>total_carats</th></tr><tr><td>str</td><td>u32</td><td>f64</td><td>f64</td></tr></thead><tbody><tr><td>&quot;FL&quot;</td><td>4</td><td>63776.0</td><td>7.87</td></tr><tr><td>&quot;IF&quot;</td><td>219</td><td>22105.844749</td><td>316.0</td></tr><tr><td>&quot;SI1&quot;</td><td>2059</td><td>8018.864012</td><td>2563.69</td></tr><tr><td>&quot;VS1&quot;</td><td>1192</td><td>13694.113255</td><td>1682.74</td></tr><tr><td>&quot;VS2&quot;</td><td>1575</td><td>11809.053333</td><td>2170.81</td></tr><tr><td>&quot;VVS1&quot;</td><td>285</td><td>16845.680702</td><td>389.43</td></tr><tr><td>&quot;VVS2&quot;</td><td>666</td><td>14142.177177</td><td>876.58</td></tr></tbody></table></div>"
            ]
          },
          "metadata": {},
          "execution_count": 21
        }
      ],
      "source": [
        "# Your code here:\n",
        "# Question 8: \"We're thinking of specializing in certain clarity grades. For our investor deck, I need a complete breakdown showing: how many diamonds we have in each clarity grade, their typical price, and the total carats we're holding for each grade.\"\n",
        "# Keywords: \"complete breakdown\", \"each clarity grade\", \"how many\", \"typical price\", \"total carats\" -> group by 'Clarity' and aggregate count, mean('Price'), sum('Carat Weight')\n",
        "\n",
        "clarity_breakdown = df.group_by(\"Clarity\").agg(\n",
        "    pl.len().alias(\"number_of_diamonds\"),\n",
        "    pl.col(\"Price\").mean().alias(\"typical_price\"),\n",
        "    pl.col(\"Carat Weight\").sum().alias(\"total_carats\")\n",
        ").sort(\"Clarity\") # Sorting by Clarity for a clear breakdown\n",
        "\n",
        "print(\"Clarity Grade Breakdown:\")\n",
        "clarity_breakdown"
      ]
    },
    {
      "cell_type": "markdown",
      "metadata": {
        "id": "9j6Nz9vNmrGR"
      },
      "source": [
        "### Question 9: \"My luxury competitor claims they have the best prices for every cut-color combination. Show me our pricing structure across these combinations - I want to see where we're competitive.\""
      ]
    },
    {
      "cell_type": "code",
      "execution_count": 22,
      "metadata": {
        "colab": {
          "base_uri": "https://localhost:8080/",
          "height": 461
        },
        "id": "NqE7udvxmrGS",
        "outputId": "6519020f-ca2e-433e-8ad5-a31e64953e47"
      },
      "outputs": [
        {
          "output_type": "stream",
          "name": "stdout",
          "text": [
            "Pricing structure across cut and color combinations:\n"
          ]
        },
        {
          "output_type": "execute_result",
          "data": {
            "text/plain": [
              "shape: (30, 4)\n",
              "┌───────────┬───────┬───────────────┬───────┐\n",
              "│ Cut       ┆ Color ┆ average_price ┆ count │\n",
              "│ ---       ┆ ---   ┆ ---           ┆ ---   │\n",
              "│ str       ┆ str   ┆ f64           ┆ u32   │\n",
              "╞═══════════╪═══════╪═══════════════╪═══════╡\n",
              "│ Fair      ┆ D     ┆ 6058.25       ┆ 12    │\n",
              "│ Fair      ┆ E     ┆ 5370.625      ┆ 32    │\n",
              "│ Fair      ┆ F     ┆ 6063.625      ┆ 24    │\n",
              "│ Fair      ┆ G     ┆ 7345.52381    ┆ 21    │\n",
              "│ Fair      ┆ H     ┆ 5908.5        ┆ 24    │\n",
              "│ …         ┆ …     ┆ …             ┆ …     │\n",
              "│ Very Good ┆ E     ┆ 12101.910217  ┆ 323   │\n",
              "│ Very Good ┆ F     ┆ 12413.905495  ┆ 455   │\n",
              "│ Very Good ┆ G     ┆ 12354.013841  ┆ 578   │\n",
              "│ Very Good ┆ H     ┆ 10056.106132  ┆ 424   │\n",
              "│ Very Good ┆ I     ┆ 8930.031332   ┆ 383   │\n",
              "└───────────┴───────┴───────────────┴───────┘"
            ],
            "text/html": [
              "<div><style>\n",
              ".dataframe > thead > tr,\n",
              ".dataframe > tbody > tr {\n",
              "  text-align: right;\n",
              "  white-space: pre-wrap;\n",
              "}\n",
              "</style>\n",
              "<small>shape: (30, 4)</small><table border=\"1\" class=\"dataframe\"><thead><tr><th>Cut</th><th>Color</th><th>average_price</th><th>count</th></tr><tr><td>str</td><td>str</td><td>f64</td><td>u32</td></tr></thead><tbody><tr><td>&quot;Fair&quot;</td><td>&quot;D&quot;</td><td>6058.25</td><td>12</td></tr><tr><td>&quot;Fair&quot;</td><td>&quot;E&quot;</td><td>5370.625</td><td>32</td></tr><tr><td>&quot;Fair&quot;</td><td>&quot;F&quot;</td><td>6063.625</td><td>24</td></tr><tr><td>&quot;Fair&quot;</td><td>&quot;G&quot;</td><td>7345.52381</td><td>21</td></tr><tr><td>&quot;Fair&quot;</td><td>&quot;H&quot;</td><td>5908.5</td><td>24</td></tr><tr><td>&hellip;</td><td>&hellip;</td><td>&hellip;</td><td>&hellip;</td></tr><tr><td>&quot;Very Good&quot;</td><td>&quot;E&quot;</td><td>12101.910217</td><td>323</td></tr><tr><td>&quot;Very Good&quot;</td><td>&quot;F&quot;</td><td>12413.905495</td><td>455</td></tr><tr><td>&quot;Very Good&quot;</td><td>&quot;G&quot;</td><td>12354.013841</td><td>578</td></tr><tr><td>&quot;Very Good&quot;</td><td>&quot;H&quot;</td><td>10056.106132</td><td>424</td></tr><tr><td>&quot;Very Good&quot;</td><td>&quot;I&quot;</td><td>8930.031332</td><td>383</td></tr></tbody></table></div>"
            ]
          },
          "metadata": {},
          "execution_count": 22
        }
      ],
      "source": [
        "# Your code here:\n",
        "# Question 9: \"My luxury competitor claims they have the best prices for every cut-color combination. Show me our pricing structure across these combinations - I want to see where we're competitive.\"\n",
        "# Keywords: \"pricing structure\", \"every cut-color combination\" -> group by 'Cut' and 'Color' and calculate mean 'Price'\n",
        "\n",
        "cut_color_prices = df.group_by([\"Cut\", \"Color\"]).agg(\n",
        "    pl.col(\"Price\").mean().alias(\"average_price\"),\n",
        "    pl.len().alias(\"count\") # Including count to see how many diamonds are in each combination\n",
        ").sort([\"Cut\", \"Color\"]) # Sorting for a clear structure\n",
        "\n",
        "print(\"Pricing structure across cut and color combinations:\")\n",
        "cut_color_prices"
      ]
    },
    {
      "cell_type": "markdown",
      "metadata": {
        "id": "iaNny48xmrGS"
      },
      "source": [
        "**Reflection:** How specific is your analysis now? What level of detail does each row represent?"
      ]
    },
    {
      "cell_type": "markdown",
      "metadata": {
        "id": "VzuQJcArmrGS"
      },
      "source": [
        "**Your answer:** New grain ="
      ]
    },
    {
      "cell_type": "markdown",
      "metadata": {
        "id": "TPmZ_l8DmrGS"
      },
      "source": [
        "### Question 10: URGENT - \"Our biggest client is interested in purchasing entire inventory segments. They asked: 'Which color-cut combinations represent your highest total inventory value?' Show me the top 5 most valuable inventory segments by total worth, and include how many diamonds are in each segment.\"\n",
        "\n",
        "This is critical for tomorrow's negotiation."
      ]
    },
    {
      "cell_type": "code",
      "execution_count": 23,
      "metadata": {
        "colab": {
          "base_uri": "https://localhost:8080/",
          "height": 273
        },
        "id": "Eu9Q_-2XmrGS",
        "outputId": "84067eb5-b6e6-4c16-b4fe-4c036884b4c4"
      },
      "outputs": [
        {
          "output_type": "stream",
          "name": "stdout",
          "text": [
            "Top 5 most valuable inventory segments by total worth:\n"
          ]
        },
        {
          "output_type": "execute_result",
          "data": {
            "text/plain": [
              "shape: (5, 4)\n",
              "┌───────┬───────────┬───────────────────────┬────────────────────┐\n",
              "│ Color ┆ Cut       ┆ total_inventory_value ┆ number_of_diamonds │\n",
              "│ ---   ┆ ---       ┆ ---                   ┆ ---                │\n",
              "│ str   ┆ str       ┆ i64                   ┆ u32                │\n",
              "╞═══════╪═══════════╪═══════════════════════╪════════════════════╡\n",
              "│ G     ┆ Ideal     ┆ 9363514               ┆ 690                │\n",
              "│ G     ┆ Very Good ┆ 7140620               ┆ 578                │\n",
              "│ F     ┆ Very Good ┆ 5648327               ┆ 455                │\n",
              "│ F     ┆ Ideal     ┆ 5346782               ┆ 363                │\n",
              "│ H     ┆ Ideal     ┆ 5279687               ┆ 458                │\n",
              "└───────┴───────────┴───────────────────────┴────────────────────┘"
            ],
            "text/html": [
              "<div><style>\n",
              ".dataframe > thead > tr,\n",
              ".dataframe > tbody > tr {\n",
              "  text-align: right;\n",
              "  white-space: pre-wrap;\n",
              "}\n",
              "</style>\n",
              "<small>shape: (5, 4)</small><table border=\"1\" class=\"dataframe\"><thead><tr><th>Color</th><th>Cut</th><th>total_inventory_value</th><th>number_of_diamonds</th></tr><tr><td>str</td><td>str</td><td>i64</td><td>u32</td></tr></thead><tbody><tr><td>&quot;G&quot;</td><td>&quot;Ideal&quot;</td><td>9363514</td><td>690</td></tr><tr><td>&quot;G&quot;</td><td>&quot;Very Good&quot;</td><td>7140620</td><td>578</td></tr><tr><td>&quot;F&quot;</td><td>&quot;Very Good&quot;</td><td>5648327</td><td>455</td></tr><tr><td>&quot;F&quot;</td><td>&quot;Ideal&quot;</td><td>5346782</td><td>363</td></tr><tr><td>&quot;H&quot;</td><td>&quot;Ideal&quot;</td><td>5279687</td><td>458</td></tr></tbody></table></div>"
            ]
          },
          "metadata": {},
          "execution_count": 23
        }
      ],
      "source": [
        "# Your code here:\n",
        "# Question 10: URGENT - \"Our biggest client is interested in purchasing entire inventory segments. They asked: 'Which color-cut combinations represent your highest total inventory value?' Show me the top 5 most valuable inventory segments by total worth, and include how many diamonds are in each segment.\"\n",
        "# Keywords: \"highest total inventory value\", \"color-cut combinations\", \"top 5\", \"how many diamonds\" -> group by 'Color' and 'Cut', sum 'Price', count diamonds, sort by total value, take top 5\n",
        "\n",
        "top_5_segments = df.group_by([\"Color\", \"Cut\"]).agg(\n",
        "    pl.col(\"Price\").sum().alias(\"total_inventory_value\"),\n",
        "    pl.len().alias(\"number_of_diamonds\")\n",
        ").sort(\"total_inventory_value\", descending=True).head(5)\n",
        "\n",
        "print(\"Top 5 most valuable inventory segments by total worth:\")\n",
        "top_5_segments"
      ]
    },
    {
      "cell_type": "markdown",
      "metadata": {
        "id": "Ymg6Rj1vmrGS"
      },
      "source": [
        "## Debrief\n",
        "\n",
        "Congratulations! You've just completed your first day as the diamond company's data analyst.\n",
        "\n",
        "Remember:\n",
        "- CEOs speak in business language, not technical terms\n",
        "- Always understand what each row represents before analyzing\n",
        "- Business questions contain clues about which operations to use"
      ]
    },
    {
      "cell_type": "markdown",
      "metadata": {
        "id": "028c6aef"
      },
      "source": [
        "We track the following information about each diamond:\n",
        "- Carat Weight\n",
        "- Cut\n",
        "- Color\n",
        "- Clarity\n",
        "- Polish\n",
        "- Symmetry\n",
        "- Report\n",
        "- Price"
      ]
    }
  ],
  "metadata": {
    "kernelspec": {
      "display_name": "Python 3",
      "language": "python",
      "name": "python3"
    },
    "language_info": {
      "codemirror_mode": {
        "name": "ipython",
        "version": 3
      },
      "file_extension": ".py",
      "mimetype": "text/x-python",
      "name": "python",
      "nbconvert_exporter": "python",
      "pygments_lexer": "ipython3",
      "version": "3.12.0"
    },
    "colab": {
      "provenance": []
    }
  },
  "nbformat": 4,
  "nbformat_minor": 0
}